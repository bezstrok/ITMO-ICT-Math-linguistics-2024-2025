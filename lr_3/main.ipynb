{
 "cells": [
  {
   "cell_type": "code",
   "id": "initial_id",
   "metadata": {
    "collapsed": true,
    "ExecuteTime": {
     "end_time": "2025-03-08T09:33:55.840655Z",
     "start_time": "2025-03-08T09:33:55.837585Z"
    }
   },
   "source": [
    "import collections\n",
    "import textwrap\n",
    "import typing as tp"
   ],
   "outputs": [],
   "execution_count": 1
  },
  {
   "metadata": {
    "ExecuteTime": {
     "end_time": "2025-03-08T09:33:56.361600Z",
     "start_time": "2025-03-08T09:33:56.359419Z"
    }
   },
   "cell_type": "code",
   "source": "MAX_STEPS = 250",
   "id": "2ba341d8348dc41d",
   "outputs": [],
   "execution_count": 2
  },
  {
   "metadata": {
    "ExecuteTime": {
     "end_time": "2025-03-08T09:33:56.852018Z",
     "start_time": "2025-03-08T09:33:56.848677Z"
    }
   },
   "cell_type": "code",
   "source": [
    "class Grammar:\n",
    "    def __init__(\n",
    "        self,\n",
    "        rules: tp.Mapping[str, tp.Sequence[str]],\n",
    "        *,\n",
    "        nonterminals: tp.Optional[tp.Sequence[str]] = None,\n",
    "    ) -> None:\n",
    "        self.rules = {key: list(value) for key, value in rules.items()}\n",
    "        self.nonterminals = set(nonterminals or self.rules)\n",
    "\n",
    "    def is_symbol_nonterminal(self, symbol: str) -> bool:\n",
    "        return symbol in self.nonterminals\n",
    "\n",
    "    def is_symbol_terminal(self, symbol: str) -> bool:\n",
    "        return not self.is_symbol_nonterminal(symbol)\n",
    "\n",
    "    def is_word_terminal(self, word: str) -> bool:\n",
    "        return all(map(self.is_symbol_terminal, word))\n",
    "\n",
    "    def generate_next(self, word: str) -> tp.Generator[str, None, None]:\n",
    "        for i, char in enumerate(word):\n",
    "            if self.is_symbol_nonterminal(char):\n",
    "                for production in self.rules.get(char, []):\n",
    "                    yield word[:i] + production + word[i + 1:]\n",
    "                break\n"
   ],
   "id": "f58066eae964050f",
   "outputs": [],
   "execution_count": 3
  },
  {
   "metadata": {
    "ExecuteTime": {
     "end_time": "2025-03-08T09:33:57.349209Z",
     "start_time": "2025-03-08T09:33:57.347038Z"
    }
   },
   "cell_type": "code",
   "source": [
    "def generate_bfs_paths(\n",
    "    grammar: Grammar,\n",
    "    start: str,\n",
    "    max_steps: int = 15,\n",
    ") -> tp.Generator[tuple[str, list[str]], None, None]:\n",
    "    queue = collections.deque([(start, [start])])\n",
    "\n",
    "    while queue:\n",
    "        current_word, path = queue.popleft()\n",
    "        yield current_word, path\n",
    "\n",
    "        if len(path) >= max_steps:\n",
    "            continue\n",
    "\n",
    "        for nxt in grammar.generate_next(current_word):\n",
    "            new_path = path + [nxt]\n",
    "            queue.append((nxt, new_path))"
   ],
   "id": "7a981dba1544905d",
   "outputs": [],
   "execution_count": 4
  },
  {
   "metadata": {
    "ExecuteTime": {
     "end_time": "2025-03-08T09:33:57.791337Z",
     "start_time": "2025-03-08T09:33:57.789339Z"
    }
   },
   "cell_type": "code",
   "source": [
    "def find_derivation_path(\n",
    "    grammar: Grammar,\n",
    "    start: str,\n",
    "    target: str,\n",
    "    max_steps: int = 15,\n",
    ") -> tp.Optional[list[str]]:\n",
    "    for current_word, path in generate_bfs_paths(grammar, start, max_steps):\n",
    "        if current_word == target:\n",
    "            return path\n",
    "\n",
    "    return None"
   ],
   "id": "de9708ace17a1916",
   "outputs": [],
   "execution_count": 5
  },
  {
   "metadata": {
    "ExecuteTime": {
     "end_time": "2025-03-08T09:33:58.126342Z",
     "start_time": "2025-03-08T09:33:58.123314Z"
    }
   },
   "cell_type": "code",
   "source": [
    "# Has to be optimized\n",
    "def find_all_terminals(\n",
    "    grammar: Grammar,\n",
    "    start: str,\n",
    "    max_steps: int = 15,\n",
    ") -> set[str]:\n",
    "    results = set()\n",
    "\n",
    "    for current_word, _ in generate_bfs_paths(grammar, start, max_steps):\n",
    "        if grammar.is_word_terminal(current_word):\n",
    "            results.add(current_word)\n",
    "\n",
    "    return results"
   ],
   "id": "b6eb940f45dffbb2",
   "outputs": [],
   "execution_count": 6
  },
  {
   "metadata": {
    "ExecuteTime": {
     "end_time": "2025-03-08T09:33:58.503444Z",
     "start_time": "2025-03-08T09:33:58.501434Z"
    }
   },
   "cell_type": "code",
   "source": [
    "def find_all_terminal_derivations(\n",
    "    grammar: Grammar,\n",
    "    start: str,\n",
    "    max_steps: int = 15,\n",
    ") -> dict[str, list[list[str]]]:\n",
    "    derivations = {}\n",
    "\n",
    "    for current_word, path in generate_bfs_paths(grammar, start, max_steps):\n",
    "        if grammar.is_word_terminal(current_word):\n",
    "            derivations.setdefault(current_word, []).append(path)\n",
    "    return derivations"
   ],
   "id": "7614ae835e15a9e",
   "outputs": [],
   "execution_count": 7
  },
  {
   "metadata": {
    "ExecuteTime": {
     "end_time": "2025-03-08T09:33:58.836128Z",
     "start_time": "2025-03-08T09:33:58.833394Z"
    }
   },
   "cell_type": "code",
   "source": [
    "def print_derivation_path(derivation: tp.Optional[tp.Sequence[str]]) -> None:\n",
    "    if derivation:\n",
    "        print(\"Найден вывод:\")\n",
    "        for step in derivation:\n",
    "            print(step)\n",
    "    else:\n",
    "        print(\"Вывод целевой строки не найден в пределах заданного числа шагов.\")"
   ],
   "id": "be6fe3c347f9db6",
   "outputs": [],
   "execution_count": 8
  },
  {
   "metadata": {
    "ExecuteTime": {
     "end_time": "2025-03-08T09:33:59.178026Z",
     "start_time": "2025-03-08T09:33:59.175444Z"
    }
   },
   "cell_type": "code",
   "source": [
    "def indent_text(text: str, indent: int) -> str:\n",
    "    return textwrap.indent(text, \" \" * indent)"
   ],
   "id": "b294a0bcc2d607",
   "outputs": [],
   "execution_count": 9
  },
  {
   "metadata": {},
   "cell_type": "markdown",
   "source": "### Задание 1",
   "id": "be8cf6b34129b39e"
  },
  {
   "metadata": {
    "ExecuteTime": {
     "end_time": "2025-03-08T09:34:00.306704Z",
     "start_time": "2025-03-08T09:34:00.304156Z"
    }
   },
   "cell_type": "code",
   "source": [
    "rules = {\n",
    "    \"A\": [\"aAa\", \"a\"],\n",
    "    \"B\": [\"bBb\", \"a\"],\n",
    "}"
   ],
   "id": "cf6db8e790707866",
   "outputs": [],
   "execution_count": 10
  },
  {
   "metadata": {
    "ExecuteTime": {
     "end_time": "2025-03-08T09:34:00.658493Z",
     "start_time": "2025-03-08T09:34:00.655734Z"
    }
   },
   "cell_type": "code",
   "source": "grammar = Grammar(rules)",
   "id": "b4a59240f3d114ff",
   "outputs": [],
   "execution_count": 11
  },
  {
   "metadata": {
    "ExecuteTime": {
     "end_time": "2025-03-08T09:34:00.991623Z",
     "start_time": "2025-03-08T09:34:00.989416Z"
    }
   },
   "cell_type": "code",
   "source": [
    "start = \"AbB\"\n",
    "target = \"aaabb\""
   ],
   "id": "9eefa83ee15ac7ec",
   "outputs": [],
   "execution_count": 12
  },
  {
   "metadata": {
    "ExecuteTime": {
     "end_time": "2025-03-08T09:34:02.138874Z",
     "start_time": "2025-03-08T09:34:01.476282Z"
    }
   },
   "cell_type": "code",
   "source": [
    "print_derivation_path(\n",
    "    find_derivation_path(\n",
    "        grammar,\n",
    "        start,\n",
    "        target,\n",
    "        max_steps=MAX_STEPS,\n",
    "    ),\n",
    ")"
   ],
   "id": "c1f4c653e9b156ae",
   "outputs": [
    {
     "name": "stdout",
     "output_type": "stream",
     "text": [
      "Вывод целевой строки не найден в пределах заданного числа шагов.\n"
     ]
    }
   ],
   "execution_count": 13
  },
  {
   "metadata": {},
   "cell_type": "markdown",
   "source": "### Задание 2",
   "id": "b34ccdc58ffbb3f4"
  },
  {
   "metadata": {
    "ExecuteTime": {
     "end_time": "2025-03-08T09:34:05.547655Z",
     "start_time": "2025-03-08T09:34:05.545856Z"
    }
   },
   "cell_type": "code",
   "source": [
    "rules = {\n",
    "    \"S\": [\"aAa\", \"bAb\", \"aa\", \"bb\"],\n",
    "    \"A\": [\"aAa\", \"bAb\", \"aa\", \"bb\"],\n",
    "    \"F\": [],\n",
    "}"
   ],
   "id": "d2ec8ea7fa03d98e",
   "outputs": [],
   "execution_count": 14
  },
  {
   "metadata": {
    "ExecuteTime": {
     "end_time": "2025-03-08T09:34:06.191102Z",
     "start_time": "2025-03-08T09:34:06.188708Z"
    }
   },
   "cell_type": "code",
   "source": "grammar = Grammar(rules)",
   "id": "a69ec245021a5ea2",
   "outputs": [],
   "execution_count": 15
  },
  {
   "metadata": {
    "ExecuteTime": {
     "end_time": "2025-03-08T09:34:07.748171Z",
     "start_time": "2025-03-08T09:34:07.744952Z"
    }
   },
   "cell_type": "code",
   "source": [
    "start = \"S\"\n",
    "target = \"aaaabbbbaaaa\""
   ],
   "id": "8b0f7ae4ac743d9b",
   "outputs": [],
   "execution_count": 16
  },
  {
   "metadata": {
    "ExecuteTime": {
     "end_time": "2025-03-08T09:34:08.289419Z",
     "start_time": "2025-03-08T09:34:08.287090Z"
    }
   },
   "cell_type": "code",
   "source": [
    "print_derivation_path(\n",
    "    find_derivation_path(\n",
    "        grammar,\n",
    "        start,\n",
    "        target,\n",
    "        max_steps=MAX_STEPS,\n",
    "    ),\n",
    ")"
   ],
   "id": "3dcd057f11e00290",
   "outputs": [
    {
     "name": "stdout",
     "output_type": "stream",
     "text": [
      "Найден вывод:\n",
      "S\n",
      "aAa\n",
      "aaAaa\n",
      "aaaAaaa\n",
      "aaaaAaaaa\n",
      "aaaabAbaaaa\n",
      "aaaabbbbaaaa\n"
     ]
    }
   ],
   "execution_count": 17
  },
  {
   "metadata": {},
   "cell_type": "markdown",
   "source": "### Задание 5",
   "id": "fe514cab84b81a17"
  },
  {
   "metadata": {
    "ExecuteTime": {
     "end_time": "2025-03-08T09:34:11.143620Z",
     "start_time": "2025-03-08T09:34:11.141005Z"
    }
   },
   "cell_type": "code",
   "source": [
    "rules = {\n",
    "    \"S\": [\"bA\", \"aB\"],\n",
    "    \"A\": [\"a\", \"aS\", \"bAA\"],\n",
    "    \"B\": [\"b\", \"bS\", \"aBB\"],\n",
    "}"
   ],
   "id": "d0904fb248f7d18b",
   "outputs": [],
   "execution_count": 18
  },
  {
   "metadata": {
    "ExecuteTime": {
     "end_time": "2025-03-08T09:34:11.968935Z",
     "start_time": "2025-03-08T09:34:11.966391Z"
    }
   },
   "cell_type": "code",
   "source": "start = \"S\"",
   "id": "a7313b7e136a4bb1",
   "outputs": [],
   "execution_count": 19
  },
  {
   "metadata": {
    "ExecuteTime": {
     "end_time": "2025-03-08T09:34:13.447475Z",
     "start_time": "2025-03-08T09:34:13.444762Z"
    }
   },
   "cell_type": "code",
   "source": "grammar = Grammar(rules)",
   "id": "deaec2968beb80e0",
   "outputs": [],
   "execution_count": 20
  },
  {
   "metadata": {},
   "cell_type": "code",
   "source": "terminal_strings = find_all_terminals(grammar, start, max_steps=20)",
   "id": "93f16d878e423c80",
   "outputs": [],
   "execution_count": null
  },
  {
   "metadata": {
    "ExecuteTime": {
     "end_time": "2025-03-08T09:32:34.646801Z",
     "start_time": "2025-03-08T07:02:26.299854Z"
    }
   },
   "cell_type": "code",
   "source": [
    "print(len(terminal_strings))\n",
    "balanced = all(string.count(\"a\") == string.count(\"b\") for string in terminal_strings)\n",
    "print(\"Все цепочки сбалансированы?\", balanced)"
   ],
   "id": "8b1bbe8bab652ddc",
   "outputs": [
    {
     "name": "stdout",
     "output_type": "stream",
     "text": [
      "250952\n",
      "Все цепочки сбалансированы? True\n"
     ]
    }
   ],
   "execution_count": 20
  },
  {
   "metadata": {},
   "cell_type": "markdown",
   "source": "### Задание 6",
   "id": "b628d8e5b00fcfe8"
  },
  {
   "metadata": {
    "ExecuteTime": {
     "end_time": "2025-03-08T09:34:25.938589Z",
     "start_time": "2025-03-08T09:34:25.935125Z"
    }
   },
   "cell_type": "code",
   "source": "all_derivations = find_all_terminal_derivations(grammar, start, max_steps=7)",
   "id": "c40b4aff88ab78b6",
   "outputs": [],
   "execution_count": 21
  },
  {
   "metadata": {
    "ExecuteTime": {
     "end_time": "2025-03-08T09:34:26.977258Z",
     "start_time": "2025-03-08T09:34:26.974296Z"
    }
   },
   "cell_type": "code",
   "source": "ambiguous = {w: paths for w, paths in all_derivations.items() if len(paths) > 1}",
   "id": "2d436f0a8393ee5e",
   "outputs": [],
   "execution_count": 22
  },
  {
   "metadata": {
    "ExecuteTime": {
     "end_time": "2025-03-08T09:34:27.850413Z",
     "start_time": "2025-03-08T09:34:27.846881Z"
    }
   },
   "cell_type": "code",
   "source": [
    "if ambiguous:\n",
    "    print(\"Найдены неоднозначные цепочки:\", end=\"\\n\\n\")\n",
    "\n",
    "    for w, paths in ambiguous.items():\n",
    "        print(f\"Строка: {w}\")\n",
    "        print(\"Количество различных выводов:\", len(paths))\n",
    "        for i, path in enumerate(paths, 1):\n",
    "            print(indent_text(f\"Вывод {i}:\", 1))\n",
    "            for step in path:\n",
    "                print(indent_text(step, 2))\n",
    "        print()\n",
    "else:\n",
    "    print(\"Не обнаружено неоднозначности в пределах заданного числа шагов.\")"
   ],
   "id": "61018d0c6595dbc2",
   "outputs": [
    {
     "name": "stdout",
     "output_type": "stream",
     "text": [
      "Найдены неоднозначные цепочки:\n",
      "\n",
      "Строка: bbaaba\n",
      "Количество различных выводов: 2\n",
      " Вывод 1:\n",
      "  S\n",
      "  bA\n",
      "  bbAA\n",
      "  bbaA\n",
      "  bbaaS\n",
      "  bbaabA\n",
      "  bbaaba\n",
      " Вывод 2:\n",
      "  S\n",
      "  bA\n",
      "  bbAA\n",
      "  bbaSA\n",
      "  bbaaBA\n",
      "  bbaabA\n",
      "  bbaaba\n",
      "\n",
      "Строка: bbabaa\n",
      "Количество различных выводов: 2\n",
      " Вывод 1:\n",
      "  S\n",
      "  bA\n",
      "  bbAA\n",
      "  bbaA\n",
      "  bbabAA\n",
      "  bbabaA\n",
      "  bbabaa\n",
      " Вывод 2:\n",
      "  S\n",
      "  bA\n",
      "  bbAA\n",
      "  bbaSA\n",
      "  bbabAA\n",
      "  bbabaA\n",
      "  bbabaa\n",
      "\n",
      "Строка: aabbab\n",
      "Количество различных выводов: 2\n",
      " Вывод 1:\n",
      "  S\n",
      "  aB\n",
      "  aaBB\n",
      "  aabB\n",
      "  aabbS\n",
      "  aabbaB\n",
      "  aabbab\n",
      " Вывод 2:\n",
      "  S\n",
      "  aB\n",
      "  aaBB\n",
      "  aabSB\n",
      "  aabbAB\n",
      "  aabbaB\n",
      "  aabbab\n",
      "\n",
      "Строка: aababb\n",
      "Количество различных выводов: 2\n",
      " Вывод 1:\n",
      "  S\n",
      "  aB\n",
      "  aaBB\n",
      "  aabB\n",
      "  aabaBB\n",
      "  aababB\n",
      "  aababb\n",
      " Вывод 2:\n",
      "  S\n",
      "  aB\n",
      "  aaBB\n",
      "  aabSB\n",
      "  aabaBB\n",
      "  aababB\n",
      "  aababb\n",
      "\n"
     ]
    }
   ],
   "execution_count": 23
  }
 ],
 "metadata": {
  "kernelspec": {
   "display_name": "Python 3",
   "language": "python",
   "name": "python3"
  },
  "language_info": {
   "codemirror_mode": {
    "name": "ipython",
    "version": 2
   },
   "file_extension": ".py",
   "mimetype": "text/x-python",
   "name": "python",
   "nbconvert_exporter": "python",
   "pygments_lexer": "ipython2",
   "version": "2.7.6"
  }
 },
 "nbformat": 4,
 "nbformat_minor": 5
}
