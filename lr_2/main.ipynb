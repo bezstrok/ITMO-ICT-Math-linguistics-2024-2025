{
 "cells": [
  {
   "metadata": {
    "ExecuteTime": {
     "end_time": "2025-03-07T22:00:20.317638Z",
     "start_time": "2025-03-07T22:00:20.311121Z"
    }
   },
   "cell_type": "code",
   "source": [
    "import os\n",
    "import re\n",
    "import collections\n",
    "import typing as tp\n",
    "import itertools\n",
    "import statistics\n",
    "import operator\n",
    "import textwrap\n",
    "\n",
    "import pymorphy3\n",
    "import seaborn as sns\n",
    "import matplotlib.pyplot as plt\n",
    "import pandas as pd"
   ],
   "id": "3d15f997ff7db909",
   "outputs": [],
   "execution_count": 1
  },
  {
   "metadata": {
    "ExecuteTime": {
     "end_time": "2025-03-07T22:00:20.340415Z",
     "start_time": "2025-03-07T22:00:20.320110Z"
    }
   },
   "cell_type": "code",
   "source": "MORPH = pymorphy3.MorphAnalyzer()",
   "id": "648f1aa9fdee1980",
   "outputs": [],
   "execution_count": 2
  },
  {
   "metadata": {
    "ExecuteTime": {
     "end_time": "2025-03-07T22:00:20.412861Z",
     "start_time": "2025-03-07T22:00:20.411219Z"
    }
   },
   "cell_type": "code",
   "source": "POEMS_PATH = \"poems\"",
   "id": "a2b35d991c1cbc84",
   "outputs": [],
   "execution_count": 3
  },
  {
   "metadata": {
    "ExecuteTime": {
     "end_time": "2025-03-07T22:00:20.419063Z",
     "start_time": "2025-03-07T22:00:20.416815Z"
    }
   },
   "cell_type": "code",
   "source": [
    "metrics_translator_mapping = {\n",
    "    \"stanzas\": \"Количество строф\",\n",
    "    \"lines\": \"Количество строк\",\n",
    "    \"sentences\": \"Количество предложений\",\n",
    "    \"pos\": \"Количество частей речи\",\n",
    "    \"average_lines_per_stanza\": \"Среднее количество строк в строфе\",\n",
    "    \"average_words_per_line\": \"Среднее количество слов в строке\",\n",
    "    \"average_words_per_sentence\": \"Среднее количество слов в предложении\",\n",
    "    \"average_pos\": \"Среднее количество частей речи в предложении\",\n",
    "    \"average_pos_per_line\": \"Среднее количество частей речи в строке\",\n",
    "    \"average_pos_per_sentence\": \"Среднее количество частей речи в предложении\",\n",
    "}\n",
    "\n",
    "pos_translator_mapping = {\n",
    "    \"CONJ\": \"Союз\",\n",
    "    \"NPRO\": \"Местоимение\",\n",
    "    \"VERB\": \"Глагол\",\n",
    "    \"PREP\": \"Предлог\",\n",
    "    \"NOUN\": \"Существительное\",\n",
    "    \"ADVB\": \"Наречие\",\n",
    "    \"ADJF\": \"Прилагательное\",\n",
    "    \"PRCL\": \"Частица\",\n",
    "    \"PRTF\": \"Причастие\",\n",
    "    \"INFN\": \"Инфинитив\",\n",
    "    \"NUMR\": \"Числительное\",\n",
    "    \"GRND\": \"Деепричастие\",\n",
    "    \"INTJ\": \"Междометие\",\n",
    "    \"COMP\": \"Сравнительная частица\",\n",
    "    \"ADJS\": \"Краткое прилагательное\",\n",
    "    \"PRED\": \"Предикатив\",\n",
    "    \"PRTS\": \"Краткое причастие\",\n",
    "}"
   ],
   "id": "83d40613bb5f4eb3",
   "outputs": [],
   "execution_count": 4
  },
  {
   "metadata": {
    "ExecuteTime": {
     "end_time": "2025-03-07T22:00:20.424396Z",
     "start_time": "2025-03-07T22:00:20.422954Z"
    }
   },
   "cell_type": "code",
   "source": "SENTENCE_SPLIT_REGEX = re.compile(r'[.!?]+')",
   "id": "11c610e8637b5ac3",
   "outputs": [],
   "execution_count": 5
  },
  {
   "metadata": {
    "ExecuteTime": {
     "end_time": "2025-03-07T22:00:20.430302Z",
     "start_time": "2025-03-07T22:00:20.428647Z"
    }
   },
   "cell_type": "code",
   "source": [
    "def read_text(path: str) -> str:\n",
    "    with open(path, 'r', encoding='utf-8') as f:\n",
    "        return f.read()"
   ],
   "id": "cd88e4416be695d1",
   "outputs": [],
   "execution_count": 6
  },
  {
   "metadata": {
    "ExecuteTime": {
     "end_time": "2025-03-07T22:00:20.437615Z",
     "start_time": "2025-03-07T22:00:20.435905Z"
    }
   },
   "cell_type": "code",
   "source": [
    "def normalize_text(text: str) -> str:\n",
    "    text = text.replace('\\r\\n', '\\n').replace('\\r', '\\n')\n",
    "    return \"\\n\".join(map(str.strip, text.split('\\n')))\n"
   ],
   "id": "13ea7b5eb4fe7ff6",
   "outputs": [],
   "execution_count": 7
  },
  {
   "metadata": {
    "ExecuteTime": {
     "end_time": "2025-03-07T22:00:20.446572Z",
     "start_time": "2025-03-07T22:00:20.444942Z"
    }
   },
   "cell_type": "code",
   "source": [
    "def safe_mean(values: tp.Iterable[float]) -> float:\n",
    "    values_list = list(values)\n",
    "    return statistics.mean(values_list) if values_list else 0.0"
   ],
   "id": "c060d980279b51e8",
   "outputs": [],
   "execution_count": 8
  },
  {
   "metadata": {
    "ExecuteTime": {
     "end_time": "2025-03-07T22:00:20.451637Z",
     "start_time": "2025-03-07T22:00:20.449837Z"
    }
   },
   "cell_type": "code",
   "source": [
    "def get_stanzas(text: str) -> list[str]:\n",
    "    return [s for stanza in text.strip().split('\\n\\n') if (s := stanza.strip())]"
   ],
   "id": "e5d9a50f1b76b691",
   "outputs": [],
   "execution_count": 9
  },
  {
   "metadata": {
    "ExecuteTime": {
     "end_time": "2025-03-07T22:00:20.457886Z",
     "start_time": "2025-03-07T22:00:20.456172Z"
    }
   },
   "cell_type": "code",
   "source": [
    "def get_lines(text: str) -> list[str]:\n",
    "    return [l for line in text.splitlines() if (l := line.strip())]"
   ],
   "id": "41c021c41eb49602",
   "outputs": [],
   "execution_count": 10
  },
  {
   "metadata": {
    "ExecuteTime": {
     "end_time": "2025-03-07T22:00:20.466077Z",
     "start_time": "2025-03-07T22:00:20.464425Z"
    }
   },
   "cell_type": "code",
   "source": [
    "def get_sentences(text: str) -> list[str]:\n",
    "    return [s for sentence in SENTENCE_SPLIT_REGEX.split(text) if (s := sentence.strip())]"
   ],
   "id": "79eaef264bb7a644",
   "outputs": [],
   "execution_count": 11
  },
  {
   "metadata": {
    "ExecuteTime": {
     "end_time": "2025-03-07T22:00:20.470253Z",
     "start_time": "2025-03-07T22:00:20.468835Z"
    }
   },
   "cell_type": "code",
   "source": [
    "def compute_stanzas(text: str) -> int:\n",
    "    return len(get_stanzas(text))"
   ],
   "id": "d59c6cc61061bc1e",
   "outputs": [],
   "execution_count": 12
  },
  {
   "metadata": {
    "ExecuteTime": {
     "end_time": "2025-03-07T22:00:20.476152Z",
     "start_time": "2025-03-07T22:00:20.474571Z"
    }
   },
   "cell_type": "code",
   "source": [
    "def compute_lines(text: str) -> int:\n",
    "    return len(get_lines(text))"
   ],
   "id": "1aa9f2f2e2c5fec8",
   "outputs": [],
   "execution_count": 13
  },
  {
   "metadata": {
    "ExecuteTime": {
     "end_time": "2025-03-07T22:00:20.481387Z",
     "start_time": "2025-03-07T22:00:20.479962Z"
    }
   },
   "cell_type": "code",
   "source": [
    "def compute_sentences(text: str) -> int:\n",
    "    return len(get_sentences(text))"
   ],
   "id": "e2597eef7b9ea97a",
   "outputs": [],
   "execution_count": 14
  },
  {
   "metadata": {
    "ExecuteTime": {
     "end_time": "2025-03-07T22:00:20.487059Z",
     "start_time": "2025-03-07T22:00:20.485230Z"
    }
   },
   "cell_type": "code",
   "source": [
    "def compute_pos(text: str) -> dict[str, int]:\n",
    "    tokens = text.split()\n",
    "    pos_counter = collections.Counter()\n",
    "    for token in tokens:\n",
    "        parsed = MORPH.parse(token)[0]\n",
    "        pos = parsed.tag.POS\n",
    "        if pos:\n",
    "            pos_counter[pos] += 1\n",
    "    return dict(pos_counter)"
   ],
   "id": "e7efbdf0be129495",
   "outputs": [],
   "execution_count": 15
  },
  {
   "metadata": {
    "ExecuteTime": {
     "end_time": "2025-03-07T22:00:20.493065Z",
     "start_time": "2025-03-07T22:00:20.491363Z"
    }
   },
   "cell_type": "code",
   "source": [
    "def compute_average_lines_per_stanza(text: str) -> float:\n",
    "    total_lines = compute_lines(text)\n",
    "    total_stanzas = compute_stanzas(text)\n",
    "    return total_lines / total_stanzas if total_stanzas else 0.0"
   ],
   "id": "a0b5a12ea2230b09",
   "outputs": [],
   "execution_count": 16
  },
  {
   "metadata": {
    "ExecuteTime": {
     "end_time": "2025-03-07T22:00:20.498761Z",
     "start_time": "2025-03-07T22:00:20.496946Z"
    }
   },
   "cell_type": "code",
   "source": [
    "def compute_average_words_per_line(text: str) -> float:\n",
    "    lines = get_lines(text)\n",
    "    if not lines:\n",
    "        return 0.0\n",
    "    total_words = sum(len(line.split()) for line in lines)\n",
    "    return total_words / len(lines)"
   ],
   "id": "66a7c97e1db80ccf",
   "outputs": [],
   "execution_count": 17
  },
  {
   "metadata": {
    "ExecuteTime": {
     "end_time": "2025-03-07T22:00:20.508765Z",
     "start_time": "2025-03-07T22:00:20.506849Z"
    }
   },
   "cell_type": "code",
   "source": [
    "def compute_average_words_per_sentence(text: str) -> float:\n",
    "    sentences = get_sentences(text)\n",
    "    if not sentences:\n",
    "        return 0.0\n",
    "    total_words = sum(len(sentence.split()) for sentence in sentences)\n",
    "    return total_words / len(sentences)"
   ],
   "id": "ce61b19b0d7f5098",
   "outputs": [],
   "execution_count": 18
  },
  {
   "metadata": {
    "ExecuteTime": {
     "end_time": "2025-03-07T22:00:20.513085Z",
     "start_time": "2025-03-07T22:00:20.511074Z"
    }
   },
   "cell_type": "code",
   "source": [
    "def compute_average_pos(text: str) -> dict[str, float]:\n",
    "    pos_counts = compute_pos(text)\n",
    "    tokens = text.split()\n",
    "    total_tokens = len(tokens)\n",
    "    if total_tokens == 0:\n",
    "        return {}\n",
    "    return {pos: count / total_tokens for pos, count in pos_counts.items()}"
   ],
   "id": "42a84d78c1dd7027",
   "outputs": [],
   "execution_count": 19
  },
  {
   "metadata": {
    "ExecuteTime": {
     "end_time": "2025-03-07T22:00:20.521273Z",
     "start_time": "2025-03-07T22:00:20.518746Z"
    }
   },
   "cell_type": "code",
   "source": [
    "def compute_average_pos_per_line(text: str) -> dict[str, float]:\n",
    "    lines = get_lines(text)\n",
    "    if not lines:\n",
    "        return {}\n",
    "    total_counter = collections.Counter()\n",
    "    for line in lines:\n",
    "        total_counter.update(compute_pos(line))\n",
    "    return {pos: count / len(lines) for pos, count in total_counter.items()}"
   ],
   "id": "f16e0bfcb82e6b05",
   "outputs": [],
   "execution_count": 20
  },
  {
   "metadata": {
    "ExecuteTime": {
     "end_time": "2025-03-07T22:00:20.527493Z",
     "start_time": "2025-03-07T22:00:20.525370Z"
    }
   },
   "cell_type": "code",
   "source": [
    "def compute_average_pos_per_sentence(text: str) -> dict[str, float]:\n",
    "    sentences = get_sentences(text)\n",
    "    if not sentences:\n",
    "        return {}\n",
    "    total_counter = collections.Counter()\n",
    "    for sentence in sentences:\n",
    "        total_counter.update(compute_pos(sentence))\n",
    "    return {pos: count / len(sentences) for pos, count in total_counter.items()}"
   ],
   "id": "31f7644b821abde4",
   "outputs": [],
   "execution_count": 21
  },
  {
   "metadata": {
    "ExecuteTime": {
     "end_time": "2025-03-07T22:00:20.533858Z",
     "start_time": "2025-03-07T22:00:20.531804Z"
    }
   },
   "cell_type": "code",
   "source": [
    "def aggregate_mean_pos(poses: tp.Iterable[tp.Mapping[str, float]]) -> dict[str, float]:\n",
    "    poses_list = list(poses)\n",
    "\n",
    "    if not poses_list:\n",
    "        return {}\n",
    "\n",
    "    keys = set(itertools.chain.from_iterable(pos.keys() for pos in poses_list))\n",
    "\n",
    "    return {\n",
    "        key: safe_mean(pos[key] for pos in poses_list if key in pos)\n",
    "        for key in keys\n",
    "    }\n"
   ],
   "id": "a45396fe238bc009",
   "outputs": [],
   "execution_count": 22
  },
  {
   "metadata": {
    "ExecuteTime": {
     "end_time": "2025-03-07T22:00:20.541842Z",
     "start_time": "2025-03-07T22:00:20.539579Z"
    }
   },
   "cell_type": "code",
   "source": [
    "def string_metric(\n",
    "    metric: tuple[str, int | float | tp.Mapping[str, float]],\n",
    "    *,\n",
    "    indent: int = 0,\n",
    ") -> str:\n",
    "    name, value = metric\n",
    "\n",
    "    if isinstance(value, (int, float)):\n",
    "        return f\"{metrics_translator_mapping[name]}: {value:.2f}\"\n",
    "\n",
    "    string_poses = '\\n'.join(\n",
    "        f\"{pos_translator_mapping[pos]}: {count:.2f}\"\n",
    "        for pos, count in value.items()\n",
    "    )\n",
    "\n",
    "    return f\"{metrics_translator_mapping[name]}:\\n{textwrap.indent(string_poses, '\\t' * indent)}\""
   ],
   "id": "8b813b3ef5e5245d",
   "outputs": [],
   "execution_count": 23
  },
  {
   "metadata": {
    "ExecuteTime": {
     "end_time": "2025-03-07T22:00:20.549691Z",
     "start_time": "2025-03-07T22:00:20.547456Z"
    }
   },
   "cell_type": "code",
   "source": [
    "def plot_structural_metrics(authors: tp.Sequence[tp.Mapping[str, tp.Any]]) -> None:\n",
    "    structural_metrics = [\n",
    "        \"stanzas\",\n",
    "        \"lines\",\n",
    "        \"sentences\",\n",
    "        \"average_lines_per_stanza\",\n",
    "        \"average_words_per_line\",\n",
    "        \"average_words_per_sentence\",\n",
    "    ]\n",
    "\n",
    "    structural_data = []\n",
    "    for author in authors:\n",
    "        for metric in structural_metrics:\n",
    "            structural_data.append(\n",
    "                {\n",
    "                    \"Автор\": author[\"name\"],\n",
    "                    \"Метрика\": metrics_translator_mapping[metric],\n",
    "                    \"Значение\": author[\"metrics\"][metric]\n",
    "                }\n",
    "            )\n",
    "\n",
    "    df_structural = pd.DataFrame(structural_data)\n",
    "\n",
    "    plt.figure(figsize=(12, 8))\n",
    "    sns.barplot(data=df_structural, x=\"Автор\", y=\"Значение\", hue=\"Метрика\")\n",
    "    plt.title(\"Структурные метрики по авторам\")\n",
    "    plt.xticks(rotation=45)\n",
    "    plt.tight_layout()\n",
    "    plt.show()\n"
   ],
   "id": "92404839b063c82",
   "outputs": [],
   "execution_count": 24
  },
  {
   "metadata": {
    "ExecuteTime": {
     "end_time": "2025-03-07T22:00:20.558807Z",
     "start_time": "2025-03-07T22:00:20.556498Z"
    }
   },
   "cell_type": "code",
   "source": [
    "def plot_pos_metrics(authors: tp.Sequence[tp.Mapping[str, tp.Any]]) -> None:\n",
    "    pos_data = []\n",
    "\n",
    "    for author in authors:\n",
    "        pos_dict = author[\"metrics\"][\"pos\"]\n",
    "        for pos, value in pos_dict.items():\n",
    "            pos_data.append(\n",
    "                {\n",
    "                    \"Автор\": author[\"name\"],\n",
    "                    \"Часть речи\": pos_translator_mapping.get(pos, pos),\n",
    "                    \"Количество\": value\n",
    "                }\n",
    "            )\n",
    "\n",
    "    df_pos = pd.DataFrame(pos_data)\n",
    "\n",
    "    plt.figure(figsize=(14, 8))\n",
    "    sns.barplot(data=df_pos, x=\"Часть речи\", y=\"Количество\", hue=\"Автор\")\n",
    "    plt.title(\"Сравнительное распределение частей речи по авторам\")\n",
    "    plt.xticks(rotation=45, ha=\"right\")\n",
    "    plt.tight_layout()\n",
    "    plt.show()"
   ],
   "id": "98a14381d33a241a",
   "outputs": [],
   "execution_count": 25
  },
  {
   "metadata": {
    "ExecuteTime": {
     "end_time": "2025-03-07T22:00:20.569905Z",
     "start_time": "2025-03-07T22:00:20.566755Z"
    }
   },
   "cell_type": "code",
   "source": [
    "poems = [\n",
    "    {\n",
    "        \"author\": author,\n",
    "        \"title\": title.removesuffix(\".txt\"),\n",
    "        \"content\": normalize_text(read_text(os.path.join(POEMS_PATH, author, title))),\n",
    "    }\n",
    "    for author in os.listdir(POEMS_PATH)\n",
    "    for title in os.listdir(os.path.join(POEMS_PATH, author))\n",
    "]"
   ],
   "id": "f17f714e49100193",
   "outputs": [],
   "execution_count": 26
  },
  {
   "metadata": {
    "ExecuteTime": {
     "end_time": "2025-03-07T22:00:20.575101Z",
     "start_time": "2025-03-07T22:00:20.573632Z"
    }
   },
   "cell_type": "code",
   "source": [
    "authors = [\n",
    "    {\n",
    "        \"name\": author,\n",
    "        \"poems\": list(poems),\n",
    "    }\n",
    "    for author, poems in itertools.groupby(poems, key=lambda p: p[\"author\"])\n",
    "]"
   ],
   "id": "7d8e9329133abced",
   "outputs": [],
   "execution_count": 27
  },
  {
   "metadata": {
    "ExecuteTime": {
     "end_time": "2025-03-07T22:00:20.581035Z",
     "start_time": "2025-03-07T22:00:20.579539Z"
    }
   },
   "cell_type": "code",
   "source": "poems.sort(key=operator.itemgetter(\"author\", \"title\"))",
   "id": "c793b6765c07ac00",
   "outputs": [],
   "execution_count": 28
  },
  {
   "metadata": {
    "ExecuteTime": {
     "end_time": "2025-03-07T22:00:20.586781Z",
     "start_time": "2025-03-07T22:00:20.585360Z"
    }
   },
   "cell_type": "code",
   "source": "authors.sort(key=operator.itemgetter(\"name\"))",
   "id": "f91d03cfbc6870fd",
   "outputs": [],
   "execution_count": 29
  },
  {
   "metadata": {
    "ExecuteTime": {
     "end_time": "2025-03-07T22:00:21.865719Z",
     "start_time": "2025-03-07T22:00:20.594204Z"
    }
   },
   "cell_type": "code",
   "source": [
    "for poem in poems:\n",
    "    content = poem[\"content\"]\n",
    "    poem[\"metrics\"] = {\n",
    "        \"stanzas\": compute_stanzas(content),\n",
    "        \"lines\": compute_lines(content),\n",
    "        \"sentences\": compute_sentences(content),\n",
    "        \"average_lines_per_stanza\": compute_average_lines_per_stanza(content),\n",
    "        \"average_words_per_line\": compute_average_words_per_line(content),\n",
    "        \"average_words_per_sentence\": compute_average_words_per_sentence(content),\n",
    "        \"pos\": compute_pos(content),\n",
    "        \"average_pos\": compute_average_pos(content),\n",
    "        \"average_pos_per_line\": compute_average_pos_per_line(content),\n",
    "        \"average_pos_per_sentence\": compute_average_pos_per_sentence(content),\n",
    "    }"
   ],
   "id": "f60edc2e3bc29a93",
   "outputs": [],
   "execution_count": 30
  },
  {
   "metadata": {
    "ExecuteTime": {
     "end_time": "2025-03-07T22:00:21.874493Z",
     "start_time": "2025-03-07T22:00:21.868605Z"
    }
   },
   "cell_type": "code",
   "source": [
    "for author in authors:\n",
    "    poems = author[\"poems\"]\n",
    "    poems_metrics = list(map(operator.itemgetter(\"metrics\"), poems))\n",
    "\n",
    "    author[\"metrics\"] = {\n",
    "        \"stanzas\": safe_mean(map(operator.itemgetter(\"stanzas\"), poems_metrics)),\n",
    "        \"lines\": safe_mean(map(operator.itemgetter(\"lines\"), poems_metrics)),\n",
    "        \"sentences\": safe_mean(map(operator.itemgetter(\"sentences\"), poems_metrics)),\n",
    "        \"average_lines_per_stanza\": safe_mean(map(operator.itemgetter(\"average_lines_per_stanza\"), poems_metrics)),\n",
    "        \"average_words_per_line\": safe_mean(map(operator.itemgetter(\"average_words_per_line\"), poems_metrics)),\n",
    "        \"average_words_per_sentence\": safe_mean(map(operator.itemgetter(\"average_words_per_sentence\"), poems_metrics)),\n",
    "        \"pos\": aggregate_mean_pos(map(operator.itemgetter(\"pos\"), poems_metrics)),\n",
    "        \"average_pos\": aggregate_mean_pos(map(operator.itemgetter(\"average_pos\"), poems_metrics)),\n",
    "        \"average_pos_per_line\": aggregate_mean_pos(map(operator.itemgetter(\"average_pos_per_line\"), poems_metrics)),\n",
    "        \"average_pos_per_sentence\": aggregate_mean_pos(map(operator.itemgetter(\"average_pos_per_sentence\"), poems_metrics)),\n",
    "    }"
   ],
   "id": "268181cb6933bc9d",
   "outputs": [],
   "execution_count": 31
  },
  {
   "metadata": {
    "ExecuteTime": {
     "end_time": "2025-03-07T22:00:21.881469Z",
     "start_time": "2025-03-07T22:00:21.879393Z"
    }
   },
   "cell_type": "code",
   "source": [
    "for author in authors:\n",
    "    name = author[\"name\"]\n",
    "    metrics = '\\n'.join(map(string_metric, author['metrics'].items()))\n",
    "\n",
    "    print(\n",
    "        name,\n",
    "        textwrap.indent(metrics, '\\t' * 0),\n",
    "        sep=\"\\n\",\n",
    "        end=\"\\n\\n\",\n",
    "    )"
   ],
   "id": "567d4f58e0855ba7",
   "outputs": [
    {
     "name": "stdout",
     "output_type": "stream",
     "text": [
      "Александр Введенский\n",
      "Количество строф: 2.22\n",
      "Количество строк: 78.44\n",
      "Количество предложений: 17.33\n",
      "Среднее количество строк в строфе: 52.56\n",
      "Среднее количество слов в строке: 3.80\n",
      "Среднее количество слов в предложении: 68.71\n",
      "Количество частей речи:\n",
      "Инфинитив: 4.11\n",
      "Деепричастие: 5.20\n",
      "Прилагательное: 20.00\n",
      "Существительное: 66.89\n",
      "Глагол: 39.33\n",
      "Причастие: 3.80\n",
      "Числительное: 1.75\n",
      "Сравнительная частица: 3.00\n",
      "Краткое причастие: 1.00\n",
      "Союз: 27.89\n",
      "Краткое прилагательное: 2.00\n",
      "Местоимение: 28.44\n",
      "Наречие: 16.00\n",
      "Частица: 12.78\n",
      "Предикатив: 1.75\n",
      "Предлог: 26.00\n",
      "Междометие: 2.00\n",
      "Среднее количество частей речи в предложении:\n",
      "Инфинитив: 0.01\n",
      "Деепричастие: 0.01\n",
      "Прилагательное: 0.06\n",
      "Существительное: 0.19\n",
      "Глагол: 0.12\n",
      "Причастие: 0.01\n",
      "Числительное: 0.01\n",
      "Сравнительная частица: 0.01\n",
      "Краткое причастие: 0.00\n",
      "Союз: 0.08\n",
      "Краткое прилагательное: 0.01\n",
      "Местоимение: 0.08\n",
      "Наречие: 0.05\n",
      "Частица: 0.04\n",
      "Предикатив: 0.01\n",
      "Предлог: 0.08\n",
      "Междометие: 0.00\n",
      "Среднее количество частей речи в строке:\n",
      "Инфинитив: 0.05\n",
      "Деепричастие: 0.05\n",
      "Прилагательное: 0.22\n",
      "Существительное: 0.71\n",
      "Глагол: 0.47\n",
      "Причастие: 0.05\n",
      "Числительное: 0.02\n",
      "Сравнительная частица: 0.04\n",
      "Краткое причастие: 0.01\n",
      "Союз: 0.32\n",
      "Краткое прилагательное: 0.02\n",
      "Местоимение: 0.34\n",
      "Наречие: 0.18\n",
      "Частица: 0.15\n",
      "Предикатив: 0.02\n",
      "Предлог: 0.31\n",
      "Междометие: 0.01\n",
      "Среднее количество частей речи в предложении:\n",
      "Инфинитив: 1.26\n",
      "Деепричастие: 2.37\n",
      "Прилагательное: 5.27\n",
      "Существительное: 22.80\n",
      "Глагол: 10.83\n",
      "Причастие: 0.45\n",
      "Числительное: 0.37\n",
      "Сравнительная частица: 0.26\n",
      "Краткое причастие: 0.08\n",
      "Союз: 7.07\n",
      "Краткое прилагательное: 0.77\n",
      "Местоимение: 4.49\n",
      "Наречие: 3.76\n",
      "Частица: 2.13\n",
      "Предикатив: 0.69\n",
      "Предлог: 6.25\n",
      "Междометие: 0.75\n",
      "\n",
      "Николай Заболоцкий\n",
      "Количество строф: 3.89\n",
      "Количество строк: 25.89\n",
      "Количество предложений: 7.89\n",
      "Среднее количество строк в строфе: 10.50\n",
      "Среднее количество слов в строке: 4.72\n",
      "Среднее количество слов в предложении: 15.32\n",
      "Количество частей речи:\n",
      "Инфинитив: 2.43\n",
      "Деепричастие: 2.50\n",
      "Прилагательное: 15.22\n",
      "Существительное: 21.11\n",
      "Глагол: 9.67\n",
      "Причастие: 2.00\n",
      "Числительное: 2.00\n",
      "Сравнительная частица: 2.00\n",
      "Союз: 10.67\n",
      "Краткое прилагательное: 1.80\n",
      "Местоимение: 6.67\n",
      "Наречие: 4.11\n",
      "Частица: 4.44\n",
      "Предикатив: 1.00\n",
      "Предлог: 12.44\n",
      "Краткое причастие: 1.50\n",
      "Среднее количество частей речи в предложении:\n",
      "Инфинитив: 0.02\n",
      "Деепричастие: 0.02\n",
      "Прилагательное: 0.12\n",
      "Существительное: 0.18\n",
      "Глагол: 0.08\n",
      "Причастие: 0.02\n",
      "Числительное: 0.02\n",
      "Сравнительная частица: 0.02\n",
      "Союз: 0.08\n",
      "Краткое прилагательное: 0.02\n",
      "Местоимение: 0.06\n",
      "Наречие: 0.03\n",
      "Частица: 0.04\n",
      "Предикатив: 0.01\n",
      "Предлог: 0.10\n",
      "Краткое причастие: 0.02\n",
      "Среднее количество частей речи в строке:\n",
      "Инфинитив: 0.10\n",
      "Деепричастие: 0.08\n",
      "Прилагательное: 0.59\n",
      "Существительное: 0.82\n",
      "Глагол: 0.38\n",
      "Причастие: 0.08\n",
      "Числительное: 0.09\n",
      "Сравнительная частица: 0.10\n",
      "Союз: 0.41\n",
      "Краткое прилагательное: 0.08\n",
      "Местоимение: 0.29\n",
      "Наречие: 0.16\n",
      "Частица: 0.17\n",
      "Предикатив: 0.03\n",
      "Предлог: 0.47\n",
      "Краткое причастие: 0.07\n",
      "Среднее количество частей речи в предложении:\n",
      "Инфинитив: 0.29\n",
      "Деепричастие: 0.31\n",
      "Прилагательное: 2.05\n",
      "Существительное: 3.37\n",
      "Глагол: 1.30\n",
      "Причастие: 0.27\n",
      "Числительное: 0.29\n",
      "Сравнительная частица: 0.40\n",
      "Союз: 1.28\n",
      "Краткое прилагательное: 0.27\n",
      "Местоимение: 0.99\n",
      "Наречие: 0.51\n",
      "Частица: 0.55\n",
      "Предикатив: 0.15\n",
      "Предлог: 1.58\n",
      "Краткое причастие: 0.21\n",
      "\n",
      "Николай Рубцов\n",
      "Количество строф: 3.89\n",
      "Количество строк: 18.11\n",
      "Количество предложений: 7.33\n",
      "Среднее количество строк в строфе: 6.56\n",
      "Среднее количество слов в строке: 4.90\n",
      "Среднее количество слов в предложении: 13.33\n",
      "Количество частей речи:\n",
      "Деепричастие: 1.00\n",
      "Инфинитив: 3.50\n",
      "Прилагательное: 9.56\n",
      "Существительное: 14.78\n",
      "Глагол: 8.78\n",
      "Причастие: 2.25\n",
      "Сравнительная частица: 1.33\n",
      "Числительное: 1.00\n",
      "Союз: 8.25\n",
      "Краткое прилагательное: 1.00\n",
      "Местоимение: 3.56\n",
      "Наречие: 4.67\n",
      "Частица: 2.89\n",
      "Предлог: 12.44\n",
      "Краткое причастие: 1.00\n",
      "Среднее количество частей речи в предложении:\n",
      "Деепричастие: 0.01\n",
      "Инфинитив: 0.04\n",
      "Прилагательное: 0.11\n",
      "Существительное: 0.17\n",
      "Глагол: 0.10\n",
      "Причастие: 0.03\n",
      "Сравнительная частица: 0.01\n",
      "Числительное: 0.01\n",
      "Союз: 0.09\n",
      "Краткое прилагательное: 0.01\n",
      "Местоимение: 0.04\n",
      "Наречие: 0.05\n",
      "Частица: 0.03\n",
      "Предлог: 0.15\n",
      "Краткое причастие: 0.01\n",
      "Среднее количество частей речи в строке:\n",
      "Деепричастие: 0.06\n",
      "Инфинитив: 0.16\n",
      "Прилагательное: 0.51\n",
      "Существительное: 0.84\n",
      "Глагол: 0.51\n",
      "Причастие: 0.15\n",
      "Сравнительная частица: 0.07\n",
      "Числительное: 0.06\n",
      "Союз: 0.48\n",
      "Краткое прилагательное: 0.06\n",
      "Местоимение: 0.20\n",
      "Наречие: 0.25\n",
      "Частица: 0.16\n",
      "Предлог: 0.73\n",
      "Краткое причастие: 0.05\n",
      "Среднее количество частей речи в предложении:\n",
      "Деепричастие: 0.25\n",
      "Инфинитив: 0.32\n",
      "Прилагательное: 1.40\n",
      "Существительное: 2.85\n",
      "Глагол: 1.39\n",
      "Причастие: 0.40\n",
      "Сравнительная частица: 0.19\n",
      "Числительное: 0.25\n",
      "Союз: 1.24\n",
      "Краткое прилагательное: 0.18\n",
      "Местоимение: 0.63\n",
      "Наречие: 0.75\n",
      "Частица: 0.43\n",
      "Предлог: 2.06\n",
      "Краткое причастие: 0.10\n",
      "\n",
      "Сергей Гандлевский\n",
      "Количество строф: 1.89\n",
      "Количество строк: 19.00\n",
      "Количество предложений: 7.44\n",
      "Среднее количество строк в строфе: 14.11\n",
      "Среднее количество слов в строке: 4.96\n",
      "Среднее количество слов в предложении: 20.62\n",
      "Количество частей речи:\n",
      "Инфинитив: 2.25\n",
      "Деепричастие: 1.00\n",
      "Прилагательное: 8.22\n",
      "Существительное: 18.33\n",
      "Глагол: 8.56\n",
      "Числительное: 1.00\n",
      "Причастие: 1.00\n",
      "Союз: 10.00\n",
      "Краткое прилагательное: 1.00\n",
      "Местоимение: 5.88\n",
      "Наречие: 4.33\n",
      "Частица: 4.50\n",
      "Предикатив: 1.00\n",
      "Предлог: 10.44\n",
      "Среднее количество частей речи в предложении:\n",
      "Инфинитив: 0.02\n",
      "Деепричастие: 0.01\n",
      "Прилагательное: 0.09\n",
      "Существительное: 0.19\n",
      "Глагол: 0.09\n",
      "Числительное: 0.01\n",
      "Причастие: 0.01\n",
      "Союз: 0.11\n",
      "Краткое прилагательное: 0.01\n",
      "Местоимение: 0.06\n",
      "Наречие: 0.05\n",
      "Частица: 0.05\n",
      "Предикатив: 0.01\n",
      "Предлог: 0.11\n",
      "Среднее количество частей речи в строке:\n",
      "Инфинитив: 0.11\n",
      "Деепричастие: 0.05\n",
      "Прилагательное: 0.44\n",
      "Существительное: 0.92\n",
      "Глагол: 0.44\n",
      "Числительное: 0.07\n",
      "Причастие: 0.05\n",
      "Союз: 0.56\n",
      "Краткое прилагательное: 0.07\n",
      "Местоимение: 0.30\n",
      "Наречие: 0.22\n",
      "Частица: 0.24\n",
      "Предикатив: 0.06\n",
      "Предлог: 0.55\n",
      "Среднее количество частей речи в предложении:\n",
      "Инфинитив: 0.33\n",
      "Деепричастие: 0.18\n",
      "Прилагательное: 1.67\n",
      "Существительное: 3.68\n",
      "Глагол: 2.42\n",
      "Числительное: 0.15\n",
      "Причастие: 0.13\n",
      "Сравнительная частица: 0.20\n",
      "Союз: 2.75\n",
      "Краткое прилагательное: 0.18\n",
      "Местоимение: 1.40\n",
      "Наречие: 0.88\n",
      "Частица: 1.30\n",
      "Предикатив: 0.15\n",
      "Предлог: 2.12\n",
      "\n"
     ]
    }
   ],
   "execution_count": 32
  },
  {
   "metadata": {
    "ExecuteTime": {
     "end_time": "2025-03-07T22:00:22.042591Z",
     "start_time": "2025-03-07T22:00:21.900595Z"
    }
   },
   "cell_type": "code",
   "source": "plot_structural_metrics(authors)",
   "id": "6b7d6632c728fda2",
   "outputs": [
    {
     "data": {
      "text/plain": [
       "<Figure size 1200x800 with 1 Axes>"
      ],
      "image/png": "[encoded data removed]"
     },
     "metadata": {},
     "output_type": "display_data"
    }
   ],
   "execution_count": 33
  },
  {
   "metadata": {
    "ExecuteTime": {
     "end_time": "2025-03-07T22:00:22.179395Z",
     "start_time": "2025-03-07T22:00:22.046784Z"
    }
   },
   "cell_type": "code",
   "source": "plot_pos_metrics(authors)",
   "id": "6f6bb7c2892910f0",
   "outputs": [
    {
     "data": {
      "text/plain": [
       "<Figure size 1400x800 with 1 Axes>"
      ],
      "image/png": "[encoded data removed]"
     },
     "metadata": {},
     "output_type": "display_data"
    }
   ],
   "execution_count": 34
  }
 ],
 "metadata": {
  "kernelspec": {
   "display_name": "Python 3",
   "language": "python",
   "name": "python3"
  },
  "language_info": {
   "codemirror_mode": {
    "name": "ipython",
    "version": 2
   },
   "file_extension": ".py",
   "mimetype": "text/x-python",
   "name": "python",
   "nbconvert_exporter": "python",
   "pygments_lexer": "ipython2",
   "version": "2.7.6"
  }
 },
 "nbformat": 4,
 "nbformat_minor": 5
}
