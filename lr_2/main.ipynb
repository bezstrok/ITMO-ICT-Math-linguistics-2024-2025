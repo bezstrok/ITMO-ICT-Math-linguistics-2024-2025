{
 "cells": [
  {
   "metadata": {
    "ExecuteTime": {
     "end_time": "2025-03-07T23:11:54.294588Z",
     "start_time": "2025-03-07T23:11:54.287017Z"
    }
   },
   "cell_type": "code",
   "source": [
    "import os\n",
    "import re\n",
    "import collections\n",
    "import typing as tp\n",
    "import itertools\n",
    "import statistics\n",
    "import operator\n",
    "import textwrap\n",
    "\n",
    "import pymorphy3\n",
    "import seaborn as sns\n",
    "import matplotlib.pyplot as plt\n",
    "import pandas as pd"
   ],
   "id": "3d15f997ff7db909",
   "outputs": [],
   "execution_count": 1
  },
  {
   "metadata": {
    "ExecuteTime": {
     "end_time": "2025-03-07T23:11:54.316605Z",
     "start_time": "2025-03-07T23:11:54.296685Z"
    }
   },
   "cell_type": "code",
   "source": "MORPH = pymorphy3.MorphAnalyzer()",
   "id": "648f1aa9fdee1980",
   "outputs": [],
   "execution_count": 2
  },
  {
   "metadata": {
    "ExecuteTime": {
     "end_time": "2025-03-07T23:11:54.396531Z",
     "start_time": "2025-03-07T23:11:54.395200Z"
    }
   },
   "cell_type": "code",
   "source": "POEMS_PATH = \"poems\"",
   "id": "a2b35d991c1cbc84",
   "outputs": [],
   "execution_count": 3
  },
  {
   "metadata": {
    "ExecuteTime": {
     "end_time": "2025-03-07T23:11:54.402104Z",
     "start_time": "2025-03-07T23:11:54.400042Z"
    }
   },
   "cell_type": "code",
   "source": [
    "metrics_translator_mapping = {\n",
    "    \"stanzas\": \"Количество строф\",\n",
    "    \"lines\": \"Количество строк\",\n",
    "    \"sentences\": \"Количество предложений\",\n",
    "    \"pos\": \"Количество частей речи\",\n",
    "    \"average_lines_per_stanza\": \"Среднее количество строк в строфе\",\n",
    "    \"average_words_per_line\": \"Среднее количество слов в строке\",\n",
    "    \"average_words_per_sentence\": \"Среднее количество слов в предложении\",\n",
    "    \"average_pos\": \"Среднее количество частей речи в предложении\",\n",
    "    \"average_pos_per_line\": \"Среднее количество частей речи в строке\",\n",
    "    \"average_pos_per_sentence\": \"Среднее количество частей речи в предложении\",\n",
    "}\n",
    "\n",
    "pos_translator_mapping = {\n",
    "    \"CONJ\": \"Союз\",\n",
    "    \"NPRO\": \"Местоимение\",\n",
    "    \"VERB\": \"Глагол\",\n",
    "    \"PREP\": \"Предлог\",\n",
    "    \"NOUN\": \"Существительное\",\n",
    "    \"ADVB\": \"Наречие\",\n",
    "    \"ADJF\": \"Прилагательное\",\n",
    "    \"PRCL\": \"Частица\",\n",
    "    \"PRTF\": \"Причастие\",\n",
    "    \"INFN\": \"Инфинитив\",\n",
    "    \"NUMR\": \"Числительное\",\n",
    "    \"GRND\": \"Деепричастие\",\n",
    "    \"INTJ\": \"Междометие\",\n",
    "    \"COMP\": \"Сравнительная частица\",\n",
    "    \"ADJS\": \"Краткое прилагательное\",\n",
    "    \"PRED\": \"Предикатив\",\n",
    "    \"PRTS\": \"Краткое причастие\",\n",
    "}"
   ],
   "id": "83d40613bb5f4eb3",
   "outputs": [],
   "execution_count": 4
  },
  {
   "metadata": {
    "ExecuteTime": {
     "end_time": "2025-03-07T23:11:54.407598Z",
     "start_time": "2025-03-07T23:11:54.405928Z"
    }
   },
   "cell_type": "code",
   "source": "SENTENCE_SPLIT_REGEX = re.compile(r'[.!?]+')",
   "id": "11c610e8637b5ac3",
   "outputs": [],
   "execution_count": 5
  },
  {
   "metadata": {
    "ExecuteTime": {
     "end_time": "2025-03-07T23:11:54.412876Z",
     "start_time": "2025-03-07T23:11:54.411313Z"
    }
   },
   "cell_type": "code",
   "source": [
    "def read_text(path: str) -> str:\n",
    "    with open(path, 'r', encoding='utf-8') as f:\n",
    "        return f.read()"
   ],
   "id": "cd88e4416be695d1",
   "outputs": [],
   "execution_count": 6
  },
  {
   "metadata": {
    "ExecuteTime": {
     "end_time": "2025-03-07T23:11:54.417609Z",
     "start_time": "2025-03-07T23:11:54.416132Z"
    }
   },
   "cell_type": "code",
   "source": [
    "def normalize_text(text: str) -> str:\n",
    "    text = text.replace('\\r\\n', '\\n').replace('\\r', '\\n')\n",
    "    return \"\\n\".join(map(str.strip, text.split('\\n')))\n"
   ],
   "id": "13ea7b5eb4fe7ff6",
   "outputs": [],
   "execution_count": 7
  },
  {
   "metadata": {
    "ExecuteTime": {
     "end_time": "2025-03-07T23:11:54.422734Z",
     "start_time": "2025-03-07T23:11:54.421136Z"
    }
   },
   "cell_type": "code",
   "source": [
    "def safe_mean(values: tp.Iterable[float]) -> float:\n",
    "    values_list = list(values)\n",
    "    return statistics.mean(values_list) if values_list else 0.0"
   ],
   "id": "c060d980279b51e8",
   "outputs": [],
   "execution_count": 8
  },
  {
   "metadata": {
    "ExecuteTime": {
     "end_time": "2025-03-07T23:11:54.427892Z",
     "start_time": "2025-03-07T23:11:54.426217Z"
    }
   },
   "cell_type": "code",
   "source": [
    "def get_stanzas(text: str) -> list[str]:\n",
    "    return [s for stanza in text.strip().split('\\n\\n') if (s := stanza.strip())]"
   ],
   "id": "e5d9a50f1b76b691",
   "outputs": [],
   "execution_count": 9
  },
  {
   "metadata": {
    "ExecuteTime": {
     "end_time": "2025-03-07T23:11:54.432991Z",
     "start_time": "2025-03-07T23:11:54.431375Z"
    }
   },
   "cell_type": "code",
   "source": [
    "def get_lines(text: str) -> list[str]:\n",
    "    return [l for line in text.splitlines() if (l := line.strip())]"
   ],
   "id": "41c021c41eb49602",
   "outputs": [],
   "execution_count": 10
  },
  {
   "metadata": {
    "ExecuteTime": {
     "end_time": "2025-03-07T23:11:54.437917Z",
     "start_time": "2025-03-07T23:11:54.436529Z"
    }
   },
   "cell_type": "code",
   "source": [
    "def get_sentences(text: str) -> list[str]:\n",
    "    return [s for sentence in SENTENCE_SPLIT_REGEX.split(text) if (s := sentence.strip())]"
   ],
   "id": "79eaef264bb7a644",
   "outputs": [],
   "execution_count": 11
  },
  {
   "metadata": {
    "ExecuteTime": {
     "end_time": "2025-03-07T23:11:54.442488Z",
     "start_time": "2025-03-07T23:11:54.441152Z"
    }
   },
   "cell_type": "code",
   "source": [
    "def compute_stanzas(text: str) -> int:\n",
    "    return len(get_stanzas(text))"
   ],
   "id": "d59c6cc61061bc1e",
   "outputs": [],
   "execution_count": 12
  },
  {
   "metadata": {
    "ExecuteTime": {
     "end_time": "2025-03-07T23:11:54.447334Z",
     "start_time": "2025-03-07T23:11:54.445966Z"
    }
   },
   "cell_type": "code",
   "source": [
    "def compute_lines(text: str) -> int:\n",
    "    return len(get_lines(text))"
   ],
   "id": "1aa9f2f2e2c5fec8",
   "outputs": [],
   "execution_count": 13
  },
  {
   "metadata": {
    "ExecuteTime": {
     "end_time": "2025-03-07T23:11:54.454213Z",
     "start_time": "2025-03-07T23:11:54.452647Z"
    }
   },
   "cell_type": "code",
   "source": [
    "def compute_sentences(text: str) -> int:\n",
    "    return len(get_sentences(text))"
   ],
   "id": "e2597eef7b9ea97a",
   "outputs": [],
   "execution_count": 14
  },
  {
   "metadata": {
    "ExecuteTime": {
     "end_time": "2025-03-07T23:11:54.460039Z",
     "start_time": "2025-03-07T23:11:54.458359Z"
    }
   },
   "cell_type": "code",
   "source": [
    "def compute_pos(text: str) -> dict[str, int]:\n",
    "    tokens = text.split()\n",
    "    pos_counter = collections.Counter()\n",
    "    for token in tokens:\n",
    "        parsed = MORPH.parse(token)[0]\n",
    "        pos = parsed.tag.POS\n",
    "        if pos:\n",
    "            pos_counter[pos] += 1\n",
    "    return dict(pos_counter)"
   ],
   "id": "e7efbdf0be129495",
   "outputs": [],
   "execution_count": 15
  },
  {
   "metadata": {
    "ExecuteTime": {
     "end_time": "2025-03-07T23:11:54.465028Z",
     "start_time": "2025-03-07T23:11:54.463435Z"
    }
   },
   "cell_type": "code",
   "source": [
    "def compute_average_lines_per_stanza(text: str) -> float:\n",
    "    total_lines = compute_lines(text)\n",
    "    total_stanzas = compute_stanzas(text)\n",
    "    return total_lines / total_stanzas if total_stanzas else 0.0"
   ],
   "id": "a0b5a12ea2230b09",
   "outputs": [],
   "execution_count": 16
  },
  {
   "metadata": {
    "ExecuteTime": {
     "end_time": "2025-03-07T23:11:54.470023Z",
     "start_time": "2025-03-07T23:11:54.468428Z"
    }
   },
   "cell_type": "code",
   "source": [
    "def compute_average_words_per_line(text: str) -> float:\n",
    "    lines = get_lines(text)\n",
    "    if not lines:\n",
    "        return 0.0\n",
    "    total_words = sum(len(line.split()) for line in lines)\n",
    "    return total_words / len(lines)"
   ],
   "id": "66a7c97e1db80ccf",
   "outputs": [],
   "execution_count": 17
  },
  {
   "metadata": {
    "ExecuteTime": {
     "end_time": "2025-03-07T23:11:54.475076Z",
     "start_time": "2025-03-07T23:11:54.473393Z"
    }
   },
   "cell_type": "code",
   "source": [
    "def compute_average_words_per_sentence(text: str) -> float:\n",
    "    sentences = get_sentences(text)\n",
    "    if not sentences:\n",
    "        return 0.0\n",
    "    total_words = sum(len(sentence.split()) for sentence in sentences)\n",
    "    return total_words / len(sentences)"
   ],
   "id": "ce61b19b0d7f5098",
   "outputs": [],
   "execution_count": 18
  },
  {
   "metadata": {
    "ExecuteTime": {
     "end_time": "2025-03-07T23:11:54.479991Z",
     "start_time": "2025-03-07T23:11:54.478352Z"
    }
   },
   "cell_type": "code",
   "source": [
    "def compute_average_pos(text: str) -> dict[str, float]:\n",
    "    pos_counts = compute_pos(text)\n",
    "    tokens = text.split()\n",
    "    total_tokens = len(tokens)\n",
    "    if total_tokens == 0:\n",
    "        return {}\n",
    "    return {pos: count / total_tokens for pos, count in pos_counts.items()}"
   ],
   "id": "42a84d78c1dd7027",
   "outputs": [],
   "execution_count": 19
  },
  {
   "metadata": {
    "ExecuteTime": {
     "end_time": "2025-03-07T23:11:54.485063Z",
     "start_time": "2025-03-07T23:11:54.483254Z"
    }
   },
   "cell_type": "code",
   "source": [
    "def compute_average_pos_per_line(text: str) -> dict[str, float]:\n",
    "    lines = get_lines(text)\n",
    "    if not lines:\n",
    "        return {}\n",
    "    total_counter = collections.Counter()\n",
    "    for line in lines:\n",
    "        total_counter.update(compute_pos(line))\n",
    "    return {pos: count / len(lines) for pos, count in total_counter.items()}"
   ],
   "id": "f16e0bfcb82e6b05",
   "outputs": [],
   "execution_count": 20
  },
  {
   "metadata": {
    "ExecuteTime": {
     "end_time": "2025-03-07T23:11:54.490084Z",
     "start_time": "2025-03-07T23:11:54.488414Z"
    }
   },
   "cell_type": "code",
   "source": [
    "def compute_average_pos_per_sentence(text: str) -> dict[str, float]:\n",
    "    sentences = get_sentences(text)\n",
    "    if not sentences:\n",
    "        return {}\n",
    "    total_counter = collections.Counter()\n",
    "    for sentence in sentences:\n",
    "        total_counter.update(compute_pos(sentence))\n",
    "    return {pos: count / len(sentences) for pos, count in total_counter.items()}"
   ],
   "id": "31f7644b821abde4",
   "outputs": [],
   "execution_count": 21
  },
  {
   "metadata": {
    "ExecuteTime": {
     "end_time": "2025-03-07T23:11:54.495054Z",
     "start_time": "2025-03-07T23:11:54.493255Z"
    }
   },
   "cell_type": "code",
   "source": [
    "def aggregate_mean_pos(poses: tp.Iterable[tp.Mapping[str, float]]) -> dict[str, float]:\n",
    "    poses_list = list(poses)\n",
    "\n",
    "    if not poses_list:\n",
    "        return {}\n",
    "\n",
    "    keys = set(itertools.chain.from_iterable(pos.keys() for pos in poses_list))\n",
    "\n",
    "    return {\n",
    "        key: safe_mean(pos[key] for pos in poses_list if key in pos)\n",
    "        for key in keys\n",
    "    }\n"
   ],
   "id": "a45396fe238bc009",
   "outputs": [],
   "execution_count": 22
  },
  {
   "metadata": {
    "ExecuteTime": {
     "end_time": "2025-03-07T23:11:54.500345Z",
     "start_time": "2025-03-07T23:11:54.498386Z"
    }
   },
   "cell_type": "code",
   "source": [
    "def string_metric(\n",
    "    metric: tuple[str, int | float | tp.Mapping[str, float]],\n",
    "    *,\n",
    "    indent: int = 1,\n",
    ") -> str:\n",
    "    name, value = metric\n",
    "\n",
    "    if isinstance(value, (int, float)):\n",
    "        return f\"{metrics_translator_mapping[name]}: {value:.2f}\"\n",
    "\n",
    "    string_poses = '\\n'.join(\n",
    "        f\"{pos_translator_mapping[pos]}: {count:.2f}\"\n",
    "        for pos, count in value.items()\n",
    "    )\n",
    "\n",
    "    return f\"{metrics_translator_mapping[name]}:\\n{textwrap.indent(string_poses, '\\t' * indent)}\""
   ],
   "id": "8b813b3ef5e5245d",
   "outputs": [],
   "execution_count": 23
  },
  {
   "metadata": {
    "ExecuteTime": {
     "end_time": "2025-03-07T23:11:54.510714Z",
     "start_time": "2025-03-07T23:11:54.508360Z"
    }
   },
   "cell_type": "code",
   "source": [
    "def plot_structural_metrics(authors: tp.Sequence[tp.Mapping[str, tp.Any]]) -> None:\n",
    "    structural_metrics = [\n",
    "        \"stanzas\",\n",
    "        \"lines\",\n",
    "        \"sentences\",\n",
    "        \"average_lines_per_stanza\",\n",
    "        \"average_words_per_line\",\n",
    "        \"average_words_per_sentence\",\n",
    "    ]\n",
    "\n",
    "    structural_data = []\n",
    "    for author in authors:\n",
    "        for metric in structural_metrics:\n",
    "            structural_data.append(\n",
    "                {\n",
    "                    \"Автор\": author[\"name\"],\n",
    "                    \"Метрика\": metrics_translator_mapping[metric],\n",
    "                    \"Значение\": author[\"metrics\"][metric]\n",
    "                }\n",
    "            )\n",
    "\n",
    "    df_structural = pd.DataFrame(structural_data)\n",
    "\n",
    "    plt.figure(figsize=(12, 8))\n",
    "    sns.barplot(data=df_structural, x=\"Автор\", y=\"Значение\", hue=\"Метрика\")\n",
    "    plt.title(\"Структурные метрики по авторам\")\n",
    "    plt.xticks(rotation=45)\n",
    "    plt.tight_layout()\n",
    "    plt.show()\n"
   ],
   "id": "92404839b063c82",
   "outputs": [],
   "execution_count": 24
  },
  {
   "metadata": {
    "ExecuteTime": {
     "end_time": "2025-03-07T23:11:54.515987Z",
     "start_time": "2025-03-07T23:11:54.513897Z"
    }
   },
   "cell_type": "code",
   "source": [
    "def plot_pos_metrics(authors: tp.Sequence[tp.Mapping[str, tp.Any]]) -> None:\n",
    "    pos_data = []\n",
    "\n",
    "    for author in authors:\n",
    "        pos_dict = author[\"metrics\"][\"pos\"]\n",
    "        for pos, value in pos_dict.items():\n",
    "            pos_data.append(\n",
    "                {\n",
    "                    \"Автор\": author[\"name\"],\n",
    "                    \"Часть речи\": pos_translator_mapping.get(pos, pos),\n",
    "                    \"Количество\": value\n",
    "                }\n",
    "            )\n",
    "\n",
    "    df_pos = pd.DataFrame(pos_data)\n",
    "\n",
    "    plt.figure(figsize=(14, 8))\n",
    "    sns.barplot(data=df_pos, x=\"Часть речи\", y=\"Количество\", hue=\"Автор\")\n",
    "    plt.title(\"Сравнительное распределение частей речи по авторам\")\n",
    "    plt.xticks(rotation=45, ha=\"right\")\n",
    "    plt.tight_layout()\n",
    "    plt.show()"
   ],
   "id": "98a14381d33a241a",
   "outputs": [],
   "execution_count": 25
  },
  {
   "metadata": {
    "ExecuteTime": {
     "end_time": "2025-03-07T23:11:54.523536Z",
     "start_time": "2025-03-07T23:11:54.519747Z"
    }
   },
   "cell_type": "code",
   "source": [
    "poems = [\n",
    "    {\n",
    "        \"author\": author,\n",
    "        \"title\": title.removesuffix(\".txt\"),\n",
    "        \"content\": normalize_text(read_text(os.path.join(POEMS_PATH, author, title))),\n",
    "    }\n",
    "    for author in os.listdir(POEMS_PATH)\n",
    "    for title in os.listdir(os.path.join(POEMS_PATH, author))\n",
    "]"
   ],
   "id": "f17f714e49100193",
   "outputs": [],
   "execution_count": 26
  },
  {
   "metadata": {
    "ExecuteTime": {
     "end_time": "2025-03-07T23:11:54.528826Z",
     "start_time": "2025-03-07T23:11:54.527159Z"
    }
   },
   "cell_type": "code",
   "source": [
    "authors = [\n",
    "    {\n",
    "        \"name\": author,\n",
    "        \"poems\": list(poems),\n",
    "    }\n",
    "    for author, poems in itertools.groupby(poems, key=lambda p: p[\"author\"])\n",
    "]"
   ],
   "id": "7d8e9329133abced",
   "outputs": [],
   "execution_count": 27
  },
  {
   "metadata": {
    "ExecuteTime": {
     "end_time": "2025-03-07T23:11:54.533809Z",
     "start_time": "2025-03-07T23:11:54.532417Z"
    }
   },
   "cell_type": "code",
   "source": "poems.sort(key=operator.itemgetter(\"author\", \"title\"))",
   "id": "c793b6765c07ac00",
   "outputs": [],
   "execution_count": 28
  },
  {
   "metadata": {
    "ExecuteTime": {
     "end_time": "2025-03-07T23:11:54.539673Z",
     "start_time": "2025-03-07T23:11:54.538096Z"
    }
   },
   "cell_type": "code",
   "source": "authors.sort(key=operator.itemgetter(\"name\"))",
   "id": "f91d03cfbc6870fd",
   "outputs": [],
   "execution_count": 29
  },
  {
   "metadata": {
    "ExecuteTime": {
     "end_time": "2025-03-07T23:11:55.843577Z",
     "start_time": "2025-03-07T23:11:54.550410Z"
    }
   },
   "cell_type": "code",
   "source": [
    "for poem in poems:\n",
    "    content = poem[\"content\"]\n",
    "    poem[\"metrics\"] = {\n",
    "        \"stanzas\": compute_stanzas(content),\n",
    "        \"lines\": compute_lines(content),\n",
    "        \"sentences\": compute_sentences(content),\n",
    "        \"average_lines_per_stanza\": compute_average_lines_per_stanza(content),\n",
    "        \"average_words_per_line\": compute_average_words_per_line(content),\n",
    "        \"average_words_per_sentence\": compute_average_words_per_sentence(content),\n",
    "        \"pos\": compute_pos(content),\n",
    "        \"average_pos\": compute_average_pos(content),\n",
    "        \"average_pos_per_line\": compute_average_pos_per_line(content),\n",
    "        \"average_pos_per_sentence\": compute_average_pos_per_sentence(content),\n",
    "    }"
   ],
   "id": "f60edc2e3bc29a93",
   "outputs": [],
   "execution_count": 30
  },
  {
   "metadata": {
    "ExecuteTime": {
     "end_time": "2025-03-07T23:11:55.851738Z",
     "start_time": "2025-03-07T23:11:55.845876Z"
    }
   },
   "cell_type": "code",
   "source": [
    "for author in authors:\n",
    "    poems = author[\"poems\"]\n",
    "    poems_metrics = list(map(operator.itemgetter(\"metrics\"), poems))\n",
    "\n",
    "    author[\"metrics\"] = {\n",
    "        \"stanzas\": safe_mean(map(operator.itemgetter(\"stanzas\"), poems_metrics)),\n",
    "        \"lines\": safe_mean(map(operator.itemgetter(\"lines\"), poems_metrics)),\n",
    "        \"sentences\": safe_mean(map(operator.itemgetter(\"sentences\"), poems_metrics)),\n",
    "        \"average_lines_per_stanza\": safe_mean(map(operator.itemgetter(\"average_lines_per_stanza\"), poems_metrics)),\n",
    "        \"average_words_per_line\": safe_mean(map(operator.itemgetter(\"average_words_per_line\"), poems_metrics)),\n",
    "        \"average_words_per_sentence\": safe_mean(map(operator.itemgetter(\"average_words_per_sentence\"), poems_metrics)),\n",
    "        \"pos\": aggregate_mean_pos(map(operator.itemgetter(\"pos\"), poems_metrics)),\n",
    "        \"average_pos\": aggregate_mean_pos(map(operator.itemgetter(\"average_pos\"), poems_metrics)),\n",
    "        \"average_pos_per_line\": aggregate_mean_pos(map(operator.itemgetter(\"average_pos_per_line\"), poems_metrics)),\n",
    "        \"average_pos_per_sentence\": aggregate_mean_pos(map(operator.itemgetter(\"average_pos_per_sentence\"), poems_metrics)),\n",
    "    }"
   ],
   "id": "268181cb6933bc9d",
   "outputs": [],
   "execution_count": 31
  },
  {
   "metadata": {
    "ExecuteTime": {
     "end_time": "2025-03-07T23:11:55.858311Z",
     "start_time": "2025-03-07T23:11:55.856229Z"
    }
   },
   "cell_type": "code",
   "source": [
    "for author in authors:\n",
    "    name = author[\"name\"]\n",
    "    metrics = '\\n'.join(map(string_metric, author['metrics'].items()))\n",
    "\n",
    "    print(\n",
    "        name,\n",
    "        textwrap.indent(metrics, '\\t' * 1),\n",
    "        sep=\"\\n\",\n",
    "        end=\"\\n\\n\",\n",
    "    )"
   ],
   "id": "567d4f58e0855ba7",
   "outputs": [
    {
     "name": "stdout",
     "output_type": "stream",
     "text": [
      "Александр Введенский\n",
      "\tКоличество строф: 2.22\n",
      "\tКоличество строк: 78.44\n",
      "\tКоличество предложений: 17.33\n",
      "\tСреднее количество строк в строфе: 52.56\n",
      "\tСреднее количество слов в строке: 3.80\n",
      "\tСреднее количество слов в предложении: 68.71\n",
      "\tКоличество частей речи:\n",
      "\t\tГлагол: 39.33\n",
      "\t\tМестоимение: 28.44\n",
      "\t\tПредикатив: 1.75\n",
      "\t\tИнфинитив: 4.11\n",
      "\t\tДеепричастие: 5.20\n",
      "\t\tСоюз: 27.89\n",
      "\t\tКраткое прилагательное: 2.00\n",
      "\t\tПредлог: 26.00\n",
      "\t\tНаречие: 16.00\n",
      "\t\tПрилагательное: 20.00\n",
      "\t\tПричастие: 3.80\n",
      "\t\tМеждометие: 2.00\n",
      "\t\tСравнительная частица: 3.00\n",
      "\t\tЧастица: 12.78\n",
      "\t\tСуществительное: 66.89\n",
      "\t\tЧислительное: 1.75\n",
      "\t\tКраткое причастие: 1.00\n",
      "\tСреднее количество частей речи в предложении:\n",
      "\t\tГлагол: 0.12\n",
      "\t\tМестоимение: 0.08\n",
      "\t\tПредикатив: 0.01\n",
      "\t\tИнфинитив: 0.01\n",
      "\t\tДеепричастие: 0.01\n",
      "\t\tСоюз: 0.08\n",
      "\t\tКраткое прилагательное: 0.01\n",
      "\t\tПредлог: 0.08\n",
      "\t\tНаречие: 0.05\n",
      "\t\tПрилагательное: 0.06\n",
      "\t\tПричастие: 0.01\n",
      "\t\tМеждометие: 0.00\n",
      "\t\tСравнительная частица: 0.01\n",
      "\t\tЧастица: 0.04\n",
      "\t\tСуществительное: 0.19\n",
      "\t\tЧислительное: 0.01\n",
      "\t\tКраткое причастие: 0.00\n",
      "\tСреднее количество частей речи в строке:\n",
      "\t\tГлагол: 0.47\n",
      "\t\tМестоимение: 0.34\n",
      "\t\tПредикатив: 0.02\n",
      "\t\tИнфинитив: 0.05\n",
      "\t\tДеепричастие: 0.05\n",
      "\t\tСоюз: 0.32\n",
      "\t\tКраткое прилагательное: 0.02\n",
      "\t\tПредлог: 0.31\n",
      "\t\tНаречие: 0.18\n",
      "\t\tПрилагательное: 0.22\n",
      "\t\tПричастие: 0.05\n",
      "\t\tМеждометие: 0.01\n",
      "\t\tСравнительная частица: 0.04\n",
      "\t\tЧастица: 0.15\n",
      "\t\tСуществительное: 0.71\n",
      "\t\tЧислительное: 0.02\n",
      "\t\tКраткое причастие: 0.01\n",
      "\tСреднее количество частей речи в предложении:\n",
      "\t\tГлагол: 10.83\n",
      "\t\tМестоимение: 4.49\n",
      "\t\tПредикатив: 0.69\n",
      "\t\tИнфинитив: 1.26\n",
      "\t\tДеепричастие: 2.37\n",
      "\t\tСоюз: 7.07\n",
      "\t\tКраткое прилагательное: 0.77\n",
      "\t\tПредлог: 6.25\n",
      "\t\tНаречие: 3.76\n",
      "\t\tПрилагательное: 5.27\n",
      "\t\tПричастие: 0.45\n",
      "\t\tМеждометие: 0.75\n",
      "\t\tСравнительная частица: 0.26\n",
      "\t\tЧастица: 2.13\n",
      "\t\tСуществительное: 22.80\n",
      "\t\tЧислительное: 0.37\n",
      "\t\tКраткое причастие: 0.08\n",
      "\n",
      "Николай Заболоцкий\n",
      "\tКоличество строф: 3.89\n",
      "\tКоличество строк: 25.89\n",
      "\tКоличество предложений: 7.89\n",
      "\tСреднее количество строк в строфе: 10.50\n",
      "\tСреднее количество слов в строке: 4.72\n",
      "\tСреднее количество слов в предложении: 15.32\n",
      "\tКоличество частей речи:\n",
      "\t\tГлагол: 9.67\n",
      "\t\tМестоимение: 6.67\n",
      "\t\tПредикатив: 1.00\n",
      "\t\tИнфинитив: 2.43\n",
      "\t\tДеепричастие: 2.50\n",
      "\t\tСоюз: 10.67\n",
      "\t\tКраткое прилагательное: 1.80\n",
      "\t\tПрилагательное: 15.22\n",
      "\t\tНаречие: 4.11\n",
      "\t\tПредлог: 12.44\n",
      "\t\tПричастие: 2.00\n",
      "\t\tКраткое причастие: 1.50\n",
      "\t\tСравнительная частица: 2.00\n",
      "\t\tЧастица: 4.44\n",
      "\t\tСуществительное: 21.11\n",
      "\t\tЧислительное: 2.00\n",
      "\tСреднее количество частей речи в предложении:\n",
      "\t\tГлагол: 0.08\n",
      "\t\tМестоимение: 0.06\n",
      "\t\tПредикатив: 0.01\n",
      "\t\tИнфинитив: 0.02\n",
      "\t\tДеепричастие: 0.02\n",
      "\t\tСоюз: 0.08\n",
      "\t\tКраткое прилагательное: 0.02\n",
      "\t\tПрилагательное: 0.12\n",
      "\t\tНаречие: 0.03\n",
      "\t\tПредлог: 0.10\n",
      "\t\tПричастие: 0.02\n",
      "\t\tКраткое причастие: 0.02\n",
      "\t\tСравнительная частица: 0.02\n",
      "\t\tЧастица: 0.04\n",
      "\t\tСуществительное: 0.18\n",
      "\t\tЧислительное: 0.02\n",
      "\tСреднее количество частей речи в строке:\n",
      "\t\tГлагол: 0.38\n",
      "\t\tМестоимение: 0.29\n",
      "\t\tПредикатив: 0.03\n",
      "\t\tИнфинитив: 0.10\n",
      "\t\tДеепричастие: 0.08\n",
      "\t\tСоюз: 0.41\n",
      "\t\tКраткое прилагательное: 0.08\n",
      "\t\tПрилагательное: 0.59\n",
      "\t\tНаречие: 0.16\n",
      "\t\tПредлог: 0.47\n",
      "\t\tПричастие: 0.08\n",
      "\t\tКраткое причастие: 0.07\n",
      "\t\tСравнительная частица: 0.10\n",
      "\t\tЧастица: 0.17\n",
      "\t\tСуществительное: 0.82\n",
      "\t\tЧислительное: 0.09\n",
      "\tСреднее количество частей речи в предложении:\n",
      "\t\tГлагол: 1.30\n",
      "\t\tМестоимение: 0.99\n",
      "\t\tПредикатив: 0.15\n",
      "\t\tИнфинитив: 0.29\n",
      "\t\tДеепричастие: 0.31\n",
      "\t\tСоюз: 1.28\n",
      "\t\tКраткое прилагательное: 0.27\n",
      "\t\tПрилагательное: 2.05\n",
      "\t\tНаречие: 0.51\n",
      "\t\tПредлог: 1.58\n",
      "\t\tПричастие: 0.27\n",
      "\t\tКраткое причастие: 0.21\n",
      "\t\tСравнительная частица: 0.40\n",
      "\t\tЧастица: 0.55\n",
      "\t\tСуществительное: 3.37\n",
      "\t\tЧислительное: 0.29\n",
      "\n",
      "Николай Рубцов\n",
      "\tКоличество строф: 3.89\n",
      "\tКоличество строк: 18.11\n",
      "\tКоличество предложений: 7.33\n",
      "\tСреднее количество строк в строфе: 6.56\n",
      "\tСреднее количество слов в строке: 4.90\n",
      "\tСреднее количество слов в предложении: 13.33\n",
      "\tКоличество частей речи:\n",
      "\t\tМестоимение: 3.56\n",
      "\t\tГлагол: 8.78\n",
      "\t\tДеепричастие: 1.00\n",
      "\t\tИнфинитив: 3.50\n",
      "\t\tСоюз: 8.25\n",
      "\t\tКраткое прилагательное: 1.00\n",
      "\t\tПредлог: 12.44\n",
      "\t\tПрилагательное: 9.56\n",
      "\t\tНаречие: 4.67\n",
      "\t\tКраткое причастие: 1.00\n",
      "\t\tПричастие: 2.25\n",
      "\t\tСравнительная частица: 1.33\n",
      "\t\tЧастица: 2.89\n",
      "\t\tСуществительное: 14.78\n",
      "\t\tЧислительное: 1.00\n",
      "\tСреднее количество частей речи в предложении:\n",
      "\t\tМестоимение: 0.04\n",
      "\t\tГлагол: 0.10\n",
      "\t\tДеепричастие: 0.01\n",
      "\t\tИнфинитив: 0.04\n",
      "\t\tСоюз: 0.09\n",
      "\t\tКраткое прилагательное: 0.01\n",
      "\t\tПредлог: 0.15\n",
      "\t\tПрилагательное: 0.11\n",
      "\t\tНаречие: 0.05\n",
      "\t\tКраткое причастие: 0.01\n",
      "\t\tПричастие: 0.03\n",
      "\t\tСравнительная частица: 0.01\n",
      "\t\tЧастица: 0.03\n",
      "\t\tСуществительное: 0.17\n",
      "\t\tЧислительное: 0.01\n",
      "\tСреднее количество частей речи в строке:\n",
      "\t\tМестоимение: 0.20\n",
      "\t\tГлагол: 0.51\n",
      "\t\tДеепричастие: 0.06\n",
      "\t\tИнфинитив: 0.16\n",
      "\t\tСоюз: 0.48\n",
      "\t\tКраткое прилагательное: 0.06\n",
      "\t\tПредлог: 0.73\n",
      "\t\tПрилагательное: 0.51\n",
      "\t\tНаречие: 0.25\n",
      "\t\tКраткое причастие: 0.05\n",
      "\t\tПричастие: 0.15\n",
      "\t\tСравнительная частица: 0.07\n",
      "\t\tЧастица: 0.16\n",
      "\t\tСуществительное: 0.84\n",
      "\t\tЧислительное: 0.06\n",
      "\tСреднее количество частей речи в предложении:\n",
      "\t\tМестоимение: 0.63\n",
      "\t\tГлагол: 1.39\n",
      "\t\tДеепричастие: 0.25\n",
      "\t\tИнфинитив: 0.32\n",
      "\t\tСоюз: 1.24\n",
      "\t\tКраткое прилагательное: 0.18\n",
      "\t\tПредлог: 2.06\n",
      "\t\tПрилагательное: 1.40\n",
      "\t\tНаречие: 0.75\n",
      "\t\tКраткое причастие: 0.10\n",
      "\t\tПричастие: 0.40\n",
      "\t\tСравнительная частица: 0.19\n",
      "\t\tЧастица: 0.43\n",
      "\t\tСуществительное: 2.85\n",
      "\t\tЧислительное: 0.25\n",
      "\n",
      "Сергей Гандлевский\n",
      "\tКоличество строф: 1.89\n",
      "\tКоличество строк: 19.00\n",
      "\tКоличество предложений: 7.44\n",
      "\tСреднее количество строк в строфе: 14.11\n",
      "\tСреднее количество слов в строке: 4.96\n",
      "\tСреднее количество слов в предложении: 20.62\n",
      "\tКоличество частей речи:\n",
      "\t\tМестоимение: 5.88\n",
      "\t\tГлагол: 8.56\n",
      "\t\tПредикатив: 1.00\n",
      "\t\tИнфинитив: 2.25\n",
      "\t\tДеепричастие: 1.00\n",
      "\t\tСоюз: 10.00\n",
      "\t\tКраткое прилагательное: 1.00\n",
      "\t\tНаречие: 4.33\n",
      "\t\tПредлог: 10.44\n",
      "\t\tПрилагательное: 8.22\n",
      "\t\tПричастие: 1.00\n",
      "\t\tЧастица: 4.50\n",
      "\t\tСуществительное: 18.33\n",
      "\t\tЧислительное: 1.00\n",
      "\tСреднее количество частей речи в предложении:\n",
      "\t\tМестоимение: 0.06\n",
      "\t\tГлагол: 0.09\n",
      "\t\tПредикатив: 0.01\n",
      "\t\tИнфинитив: 0.02\n",
      "\t\tДеепричастие: 0.01\n",
      "\t\tСоюз: 0.11\n",
      "\t\tКраткое прилагательное: 0.01\n",
      "\t\tНаречие: 0.05\n",
      "\t\tПредлог: 0.11\n",
      "\t\tПрилагательное: 0.09\n",
      "\t\tПричастие: 0.01\n",
      "\t\tЧастица: 0.05\n",
      "\t\tСуществительное: 0.19\n",
      "\t\tЧислительное: 0.01\n",
      "\tСреднее количество частей речи в строке:\n",
      "\t\tМестоимение: 0.30\n",
      "\t\tГлагол: 0.44\n",
      "\t\tПредикатив: 0.06\n",
      "\t\tИнфинитив: 0.11\n",
      "\t\tДеепричастие: 0.05\n",
      "\t\tСоюз: 0.56\n",
      "\t\tКраткое прилагательное: 0.07\n",
      "\t\tНаречие: 0.22\n",
      "\t\tПредлог: 0.55\n",
      "\t\tПрилагательное: 0.44\n",
      "\t\tПричастие: 0.05\n",
      "\t\tЧастица: 0.24\n",
      "\t\tСуществительное: 0.92\n",
      "\t\tЧислительное: 0.07\n",
      "\tСреднее количество частей речи в предложении:\n",
      "\t\tМестоимение: 1.40\n",
      "\t\tГлагол: 2.42\n",
      "\t\tПредикатив: 0.15\n",
      "\t\tИнфинитив: 0.33\n",
      "\t\tДеепричастие: 0.18\n",
      "\t\tСоюз: 2.75\n",
      "\t\tКраткое прилагательное: 0.18\n",
      "\t\tНаречие: 0.88\n",
      "\t\tПредлог: 2.12\n",
      "\t\tПрилагательное: 1.67\n",
      "\t\tПричастие: 0.13\n",
      "\t\tСравнительная частица: 0.20\n",
      "\t\tЧастица: 1.30\n",
      "\t\tСуществительное: 3.68\n",
      "\t\tЧислительное: 0.15\n",
      "\n"
     ]
    }
   ],
   "execution_count": 32
  },
  {
   "metadata": {
    "ExecuteTime": {
     "end_time": "2025-03-07T23:11:55.997046Z",
     "start_time": "2025-03-07T23:11:55.868866Z"
    }
   },
   "cell_type": "code",
   "source": "plot_structural_metrics(authors)",
   "id": "6b7d6632c728fda2",
   "outputs": [
    {
     "data": {
      "text/plain": [
       "<Figure size 1200x800 with 1 Axes>"
      ],
      "image/png": "[encoded data removed]"
     },
     "metadata": {},
     "output_type": "display_data"
    }
   ],
   "execution_count": 33
  },
  {
   "metadata": {
    "ExecuteTime": {
     "end_time": "2025-03-07T23:11:56.144875Z",
     "start_time": "2025-03-07T23:11:56.001905Z"
    }
   },
   "cell_type": "code",
   "source": "plot_pos_metrics(authors)",
   "id": "6f6bb7c2892910f0",
   "outputs": [
    {
     "data": {
      "text/plain": [
       "<Figure size 1400x800 with 1 Axes>"
      ],
      "image/png": "[encoded data removed]"
     },
     "metadata": {},
     "output_type": "display_data"
    }
   ],
   "execution_count": 34
  }
 ],
 "metadata": {
  "kernelspec": {
   "display_name": "Python 3",
   "language": "python",
   "name": "python3"
  },
  "language_info": {
   "codemirror_mode": {
    "name": "ipython",
    "version": 2
   },
   "file_extension": ".py",
   "mimetype": "text/x-python",
   "name": "python",
   "nbconvert_exporter": "python",
   "pygments_lexer": "ipython2",
   "version": "2.7.6"
  }
 },
 "nbformat": 4,
 "nbformat_minor": 5
}
